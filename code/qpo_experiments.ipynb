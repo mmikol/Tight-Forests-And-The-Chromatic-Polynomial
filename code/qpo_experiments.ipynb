{
 "cells": [
  {
   "cell_type": "code",
   "execution_count": 15,
   "metadata": {},
   "outputs": [
    {
     "name": "stdout",
     "output_type": "stream",
     "text": [
      "start time: 2020-10-01 15:49:52.656537\n",
      "checking a graph like this: \n",
      "Graphics object consisting of 9 graphics primitives\n",
      "--new graph---\n",
      "candidate paths: {(1, 4, 3, 2)}\n",
      "Graphics object consisting of 9 graphics primitives\n",
      "end time: 2020-10-01 15:49:52.664014\n",
      "total time ran: 0:00:00.007477\n"
     ]
    },
    {
     "data": {
      "text/plain": [
       "'has QPO: True'"
      ]
     },
     "execution_count": 15,
     "metadata": {},
     "output_type": "execute_result"
    }
   ],
   "source": [
    "from QPO import *\n",
    "\n",
    "G = Graph({\n",
    "    1: [2, 4],\n",
    "    2: [3],\n",
    "    3: [4],\n",
    "})\n",
    "\n",
    "find_QPO(G,  stop_at_QPO = True, show_checks = True)"
   ]
  },
  {
   "cell_type": "code",
   "execution_count": null,
   "metadata": {},
   "outputs": [],
   "source": []
  },
  {
   "cell_type": "code",
   "execution_count": null,
   "metadata": {},
   "outputs": [],
   "source": []
  },
  {
   "cell_type": "code",
   "execution_count": null,
   "metadata": {},
   "outputs": [],
   "source": []
  }
 ],
 "metadata": {
  "kernelspec": {
   "display_name": "Python 3",
   "language": "python",
   "name": "python3"
  },
  "language_info": {
   "codemirror_mode": {
    "name": "ipython",
    "version": 3
   },
   "file_extension": ".py",
   "mimetype": "text/x-python",
   "name": "python",
   "nbconvert_exporter": "python",
   "pygments_lexer": "ipython3",
   "version": "3.7.8"
  }
 },
 "nbformat": 4,
 "nbformat_minor": 4
}
