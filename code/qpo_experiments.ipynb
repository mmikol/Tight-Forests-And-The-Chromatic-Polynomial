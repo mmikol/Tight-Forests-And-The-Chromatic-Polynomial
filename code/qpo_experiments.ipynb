{
 "cells": [
  {
   "cell_type": "code",
   "execution_count": 1,
   "metadata": {},
   "outputs": [
    {
     "name": "stdout",
     "output_type": "stream",
     "text": [
      "start time: 2020-10-01 16:58:04.829148\n",
      "checking a graph like this: \n",
      "Graphics object consisting of 9 graphics primitives\n",
      "--new graph---\n",
      "candidate paths: {(1, 4, 3, 2)}\n",
      "Graphics object consisting of 9 graphics primitives\n",
      "end time: 2020-10-01 16:58:04.959745\n",
      "total time ran: 0:00:00.130597\n",
      "start time: 2020-10-01 16:58:04.959841\n",
      "checking a graph like this: \n",
      "Graphics object consisting of 11 graphics primitives\n",
      "--new graph---\n",
      "candidate paths: {(1, 5, 4, 3)}\n",
      "Graphics object consisting of 11 graphics primitives\n",
      "THIS IS NOT A QPO!\n",
      "failed path: (1, 5, 4, 3)\n",
      "\n",
      "end time: 2020-10-01 16:58:04.965668\n",
      "total time ran: 0:00:00.005827\n"
     ]
    },
    {
     "data": {
      "text/plain": [
       "('has QPO: True', 'has QPO: False')"
      ]
     },
     "execution_count": 1,
     "metadata": {},
     "output_type": "execute_result"
    }
   ],
   "source": [
    "import sage.all\n",
    "from sage.graphs.graph import Graph\n",
    "from qpo import *\n",
    "\n",
    "G1 = Graph({\n",
    "    0: [1, 3],\n",
    "    1: [2],\n",
    "    2: [3]\n",
    "})\n",
    "\n",
    "G2 = Graph({\n",
    "    0: [1, 4],\n",
    "    1: [2],\n",
    "    2: [3],\n",
    "    3: [4]\n",
    "})\n",
    "\n",
    "\n",
    "(find_QPO(G1,  stop_at_QPO = True, show_checks = True),\n",
    " find_QPO(G2,  stop_at_QPO = True, show_checks = True))\n"
   ]
  },
  {
   "cell_type": "code",
   "execution_count": null,
   "metadata": {},
   "outputs": [],
   "source": []
  },
  {
   "cell_type": "code",
   "execution_count": null,
   "metadata": {},
   "outputs": [],
   "source": []
  },
  {
   "cell_type": "code",
   "execution_count": null,
   "metadata": {},
   "outputs": [],
   "source": []
  }
 ],
 "metadata": {
  "kernelspec": {
   "display_name": "Python 3",
   "language": "python",
   "name": "python3"
  },
  "language_info": {
   "codemirror_mode": {
    "name": "ipython",
    "version": 3
   },
   "file_extension": ".py",
   "mimetype": "text/x-python",
   "name": "python",
   "nbconvert_exporter": "python",
   "pygments_lexer": "ipython3",
   "version": "3.7.8"
  }
 },
 "nbformat": 4,
 "nbformat_minor": 4
}
