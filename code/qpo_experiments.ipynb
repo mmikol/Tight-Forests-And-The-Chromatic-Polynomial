{
 "cells": [
  {
   "cell_type": "code",
   "execution_count": 2,
   "metadata": {
    "scrolled": true
   },
   "outputs": [
    {
     "name": "stdout",
     "output_type": "stream",
     "text": [
      "(True, [])\n"
     ]
    }
   ],
   "source": [
    "from sage.all import *\n",
    "from qpo import *\n",
    "from itertools import combinations\n",
    "from datetime import datetime\n",
    "from sage.graphs.generators.random import RandomChordalGraph\n",
    "\n",
    "def naive_deterministic_deconstruction(G, n, show_checks=False):\n",
    "    start_time = datetime.now()\n",
    "    \n",
    "    print(f'started at: {start_time}')\n",
    "          \n",
    "    removed = set()\n",
    "    for edges in Arrangements(G.edges(), n):\n",
    "        edges = [e[:2] for e in edges]\n",
    "        G.delete_edges(edges)\n",
    "        if not find_QPO(G, stop_at_QPO=True, show_checks=show_checks):\n",
    "            removed.add(tuple(edges))\n",
    "        G.add_edges(edges)\n",
    "    \n",
    "    end_time = datetime.now()\n",
    "\n",
    "    print(f'ended at: {end_time}')\n",
    "    print(f'total time ran: {end_time - start_time}')\n",
    "\n",
    "    return removed\n",
    "\n",
    "G = graphs.CompleteBipartiteGraph(4, 4)\n",
    "\n",
    "print(G.is_weakly_chordal(certificate=True))\n",
    "\n",
    "#find_QPO(G, stop_at_QPO=True, show_checks=True)\n"
   ]
  },
  {
   "cell_type": "code",
   "execution_count": null,
   "metadata": {},
   "outputs": [],
   "source": []
  },
  {
   "cell_type": "code",
   "execution_count": null,
   "metadata": {},
   "outputs": [],
   "source": []
  }
 ],
 "metadata": {
  "kernelspec": {
   "display_name": "SageMath 9.1",
   "language": "sage",
   "name": "sagemath"
  },
  "language_info": {
   "codemirror_mode": {
    "name": "ipython",
    "version": 3
   },
   "file_extension": ".py",
   "mimetype": "text/x-python",
   "name": "python",
   "nbconvert_exporter": "python",
   "pygments_lexer": "ipython3",
   "version": "3.7.8"
  }
 },
 "nbformat": 4,
 "nbformat_minor": 2
}
