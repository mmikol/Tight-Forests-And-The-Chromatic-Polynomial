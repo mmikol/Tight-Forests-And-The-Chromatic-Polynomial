{
 "cells": [
  {
   "cell_type": "code",
   "execution_count": null,
   "metadata": {
    "scrolled": true
   },
   "outputs": [],
   "source": [
    "from sage.all import *\n",
    "from qpo import *\n",
    "from itertools import combinations\n",
    "from datetime import datetime\n",
    "from sage.graphs.generators.random import RandomChordalGraph\n",
    "import csv\n",
    "\n",
    "def generate_data(n):\n",
    "    with open('length5data.csv', 'w', newline='') as csvfile:\n",
    "        csv_writer = csv.writer(csvfile, delimiter=',')\n",
    "\n",
    "        count = 0\n",
    "        possibleEdges = set()\n",
    "        for i in range(1,n+1):\n",
    "            for j in range(i+1,n+1):\n",
    "                possibleEdges.add((i,j))\n",
    "        for S in Subsets(possibleEdges):\n",
    "            G = Graph()\n",
    "            G.add_vertices(range(1,n+1))\n",
    "            G.add_edges(S)\n",
    "            qpo, failed = is_qpo(G)\n",
    "            if (not qpo):\n",
    "                csv_writer.writerow(failed)\n",
    "                G.show()\n",
    "                print('-----')\n",
    "                count += 1    \n",
    "        return count\n",
    "\n",
    "def generate_graphs(n):\n",
    "    count = 0\n",
    "    possibleEdges = set()\n",
    "    for i in range(1,n+1):\n",
    "        for j in range(i+1,n+1):\n",
    "            possibleEdges.add((i,j))\n",
    "    for S in Subsets(possibleEdges):\n",
    "        G = Graph()\n",
    "        G.add_vertices(range(1,n+1))\n",
    "        G.add_edges(S)\n",
    "        print(is_qpo(G))\n",
    "        G.show()\n",
    "    return count\n",
    "\n",
    "generate_graphs(5)\n",
    "\n",
    "# print(G.is_weakly_chordal(certificate=True))\n",
    "# print(is_QPO(G))\n",
    "# print(is_QPO(G.complement()))\n",
    "\n",
    "#find_QPO(G, stop_at_QPO=True, show_checks=True)\n"
   ]
  },
  {
   "cell_type": "code",
   "execution_count": null,
   "metadata": {},
   "outputs": [],
   "source": []
  },
  {
   "cell_type": "code",
   "execution_count": null,
   "metadata": {},
   "outputs": [],
   "source": []
  }
 ],
 "metadata": {
  "kernelspec": {
   "display_name": "SageMath 9.2",
   "language": "sage",
   "name": "sagemath"
  },
  "language_info": {
   "codemirror_mode": {
    "name": "ipython",
    "version": 3
   },
   "file_extension": ".py",
   "mimetype": "text/x-python",
   "name": "python",
   "nbconvert_exporter": "python",
   "pygments_lexer": "ipython3",
   "version": "3.7.9"
  }
 },
 "nbformat": 4,
 "nbformat_minor": 2
}
