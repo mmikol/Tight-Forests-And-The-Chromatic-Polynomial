{
 "cells": [
  {
   "cell_type": "code",
   "execution_count": null,
   "metadata": {},
   "outputs": [],
   "source": [
    "from sage.all import *\n",
    "from qpo import *\n",
    "from itertools import combinations\n",
    "\n",
    "# Think about simulated annealing/Determinism\n",
    "def naive_random_deconstruction(G):\n",
    "    for i in range(1000):\n",
    "        removed = set()\n",
    "        while (len(G.edges()) > 0):\n",
    "            e = [*G.random_edge()][:2]\n",
    "            G.delete_edge(e)\n",
    "            removed.add(tuple(e))\n",
    "            if not find_QPO(G, stop_at_QPO=True, show_QPOs=True):\n",
    "                return removed\n",
    "\n",
    "def naive_deterministic_deconstruction(G):\n",
    "    for i in range(1, len(G.edges())):\n",
    "        removed = set()\n",
    "        for edges in Arrangements(G.edges(), i):\n",
    "            edges = [e[:2] for e in edges]\n",
    "            G.delete_edges(edges)\n",
    "            if not find_QPO(G, stop_at_QPO=True):\n",
    "                removed.add(tuple(edges))\n",
    "            G.add_edges(edges)\n",
    "    return removed\n",
    "\n",
    "            \n",
    "            \n",
    "    #return set.intersection(*all_removed)\n",
    "\n",
    "naive_deterministic_deconstruction(graphs.CompleteGraph(8))\n"
   ]
  },
  {
   "cell_type": "code",
   "execution_count": null,
   "metadata": {},
   "outputs": [],
   "source": []
  },
  {
   "cell_type": "code",
   "execution_count": null,
   "metadata": {},
   "outputs": [],
   "source": []
  }
 ],
 "metadata": {
  "kernelspec": {
   "display_name": "SageMath 9.1",
   "language": "sage",
   "name": "sagemath"
  },
  "language_info": {
   "codemirror_mode": {
    "name": "ipython",
    "version": 3
   },
   "file_extension": ".py",
   "mimetype": "text/x-python",
   "name": "python",
   "nbconvert_exporter": "python",
   "pygments_lexer": "ipython3",
   "version": "3.7.8"
  }
 },
 "nbformat": 4,
 "nbformat_minor": 2
}
