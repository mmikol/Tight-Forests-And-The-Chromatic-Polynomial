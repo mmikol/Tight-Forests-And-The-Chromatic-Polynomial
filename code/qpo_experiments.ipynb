{
 "cells": [
  {
   "cell_type": "code",
   "execution_count": null,
   "metadata": {},
   "outputs": [],
   "source": [
    "import sage.all\n",
    "from sage.graphs.graph import Graph\n",
    "from qpo import *\n",
    "\n",
    "G1 = Graph({\n",
    "    0: [1, 3],\n",
    "    1: [2],\n",
    "    2: [3]\n",
    "})\n",
    "\n",
    "G2 = Graph({\n",
    "    0: [1, 4],\n",
    "    1: [2],\n",
    "    2: [3],\n",
    "    3: [4]\n",
    "})\n",
    "\n",
    "\n",
    "(find_QPO(G1,  stop_at_QPO = True, show_checks = True),\n",
    " find_QPO(G2,  stop_at_QPO = True, show_checks = True))\n"
   ]
  }
 ],
 "metadata": {
  "kernelspec": {
   "display_name": "SageMath 9.1",
   "language": "sage",
   "name": "sagemath"
  },
  "language_info": {
   "codemirror_mode": {
    "name": "ipython",
    "version": 3
   },
   "file_extension": ".py",
   "mimetype": "text/x-python",
   "name": "python",
   "nbconvert_exporter": "python",
   "pygments_lexer": "ipython3",
   "version": "3.7.8"
  }
 },
 "nbformat": 4,
 "nbformat_minor": 2
}
