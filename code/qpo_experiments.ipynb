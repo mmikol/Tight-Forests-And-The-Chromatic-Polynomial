{
 "cells": [
  {
   "cell_type": "code",
   "execution_count": 1,
   "metadata": {
    "scrolled": true
   },
   "outputs": [
    {
     "name": "stdout",
     "output_type": "stream",
     "text": [
      "Graphics object consisting of 14 graphics primitives\n",
      "recursive\n",
      "iterative\n",
      "{1} [1]\n",
      "{1} [1, 4]\n",
      "{1, 4} [1, 4, 2]\n",
      "{1, 2, 4} [1, 4, 2, 6]\n",
      "{1, 2, 4, 6} [1, 4, 2, 6, 5]\n",
      "{1, 2, 4, 5, 6} [1, 3]\n",
      "{2} [2]\n",
      "{2} [2, 6]\n",
      "{2, 6} [2, 6, 5]\n",
      "{2, 5, 6} [2, 4]\n",
      "{2, 4, 5, 6} [2, 3]\n",
      "{3} [3]\n",
      "{3} [3, 5]\n",
      "{4} [4]\n",
      "{5} [5]\n",
      "{5} [5, 6]\n",
      "{6} [6]\n"
     ]
    },
    {
     "data": {
      "text/plain": [
       "(True, ())"
      ]
     },
     "execution_count": 1,
     "metadata": {},
     "output_type": "execute_result"
    }
   ],
   "source": [
    "from sage.all import *\n",
    "from qpo import *\n",
    "from itertools import combinations\n",
    "from datetime import datetime\n",
    "from sage.graphs.generators.random import RandomChordalGraph\n",
    "import csv\n",
    "\n",
    "def generate_data(n):\n",
    "    with open('length5data.csv', 'w', newline='') as csvfile:\n",
    "        csv_writer = csv.writer(csvfile, delimiter=',')\n",
    "\n",
    "        count = 0\n",
    "        possibleEdges = set()\n",
    "        for i in range(1,n+1):\n",
    "            for j in range(i+1,n+1):\n",
    "                possibleEdges.add((i,j))\n",
    "        for S in Subsets(possibleEdges):\n",
    "            G = Graph()\n",
    "            G.add_vertices(range(1,n+1))\n",
    "            G.add_edges(S)\n",
    "            qpo, failed = is_qpo(G)\n",
    "            if (not qpo):\n",
    "                csv_writer.writerow(failed)\n",
    "                G.show()\n",
    "                print('-----')\n",
    "                count += 1    \n",
    "        return count\n",
    "\n",
    "def generate_graphs(n):\n",
    "    possibleEdges = set()\n",
    "    for i in range(1,n+1):\n",
    "        for j in range(i+1,n+1):\n",
    "            possibleEdges.add((i,j))\n",
    "    for S in Subsets(possibleEdges):\n",
    "        G = Graph()\n",
    "        G.add_vertices(range(1,n+1))\n",
    "        G.add_edges(S)\n",
    "        print(is_qpo(G))\n",
    "        G.show()\n",
    "        \n",
    "G = Graph({3: [1, 2, 5], 2: [4, 6], 5: [6], 1: [4]})\n",
    "G.show()\n",
    "print('recursive')\n",
    "recursive_is_QPO(G)\n",
    "print('iterative')\n",
    "is_QPO(G)\n",
    "# glue_on_edge = Graph({3: [1, 2, 5], 2: [4, 6], 5: [6], 1: [4]})\n",
    "\n",
    "# find_qpo(glue_on_edge, show_checks=True, stop_at_non_qpo=True)\n",
    "\n",
    "# glue_on_vertex = Graph({1: [2, 4, 5, 7], 6 : [5, 7], 3: [2, 4]})\n",
    "\n",
    "# find_qpo(glue_on_vertex, show_checks=True, stop_at_non_qpo=True)\n",
    "\n",
    "# print(G.is_weakly_chordal(certificate=True))\n",
    "# print(is_QPO(G))\n",
    "# print(is_QPO(G.complement()))\n",
    "\n",
    "#find_QPO(G, stop_at_QPO=True, show_checks=True)\n"
   ]
  },
  {
   "cell_type": "code",
   "execution_count": null,
   "metadata": {},
   "outputs": [],
   "source": []
  },
  {
   "cell_type": "code",
   "execution_count": null,
   "metadata": {},
   "outputs": [],
   "source": []
  }
 ],
 "metadata": {
  "kernelspec": {
   "display_name": "Python 3 (ipykernel)",
   "language": "python",
   "name": "python3"
  },
  "language_info": {
   "codemirror_mode": {
    "name": "ipython",
    "version": 3
   },
   "file_extension": ".py",
   "mimetype": "text/x-python",
   "name": "python",
   "nbconvert_exporter": "python",
   "pygments_lexer": "ipython3",
   "version": "3.10.5"
  }
 },
 "nbformat": 4,
 "nbformat_minor": 4
}
